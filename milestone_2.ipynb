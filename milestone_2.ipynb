{
 "cells": [
  {
   "cell_type": "code",
   "execution_count": null,
   "metadata": {},
   "outputs": [],
   "source": [
    "import pandas as pd\n",
    "import seaborn as sns\n",
    "import matplotlib.pyplot as plt"
   ]
  },
  {
   "cell_type": "code",
   "execution_count": null,
   "metadata": {},
   "outputs": [],
   "source": [
    "top1000_imdb_movies = pd.read_csv(\"data/scrap/top1000_IMDB_movies.csv\")\n",
    "movies = pd.read_csv('data/movie.metadata.tsv', sep='\\t', header=None, names=['wikipedia_id', 'freebase_id', 'title', 'release_date', 'revenue', 'runtime', 'languages', 'countries', 'genres'])\n",
    "metacritic_reviews = pd.read_csv('data/scrap/metacritic_reviews.csv')"
   ]
  },
  {
   "cell_type": "code",
   "execution_count": null,
   "metadata": {},
   "outputs": [],
   "source": [
    "# Filter movies with metacritic reviews and freebase id\n",
    "alldata_movies = top1000_imdb_movies.loc[(top1000_imdb_movies['freebase_id'].isin(movies['freebase_id'])) & (top1000_imdb_movies['imdb_id'].isin(metacritic_reviews['imdb_id']))]"
   ]
  },
  {
   "cell_type": "code",
   "execution_count": null,
   "metadata": {},
   "outputs": [],
   "source": [
    "sns.scatterplot(x=\"metascore\", y=\"rating\", data=alldata_movies)\n",
    "plt.title(\"Rating vs Metascore\")\n",
    "plt.xticks(range(0, 101, 10))\n",
    "plt.yticks(range(0, 11, 1))\n",
    "plt.xlabel(\"Metascore\")\n",
    "plt.ylabel(\"Users Rating\")\n",
    "plt.show()"
   ]
  }
 ],
 "metadata": {
  "kernelspec": {
   "display_name": "Python 3",
   "language": "python",
   "name": "python3"
  },
  "language_info": {
   "codemirror_mode": {
    "name": "ipython",
    "version": 3
   },
   "file_extension": ".py",
   "mimetype": "text/x-python",
   "name": "python",
   "nbconvert_exporter": "python",
   "pygments_lexer": "ipython3",
   "version": "3.9.0"
  }
 },
 "nbformat": 4,
 "nbformat_minor": 2
}
