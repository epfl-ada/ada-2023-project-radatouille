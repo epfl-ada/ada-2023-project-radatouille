{
 "cells": [
  {
   "cell_type": "markdown",
   "metadata": {},
   "source": [
    "# Team rADAtouille - Milestone 2\n",
    "\n",
    "This notebook aims to preprocess our data, and estimate the feasibility of the different ideas we had during the first milestone, using data exploration and some preliminary analysis.\n",
    "\n",
    "On today's menu:\n",
    "- [Data loading](#Data-loading)\n",
    "- [Initial dataset preprocessing](#Data-preprocessing)\n",
    "    - [Characters dataset](#Characters-dataset) \n",
    "    - [Movies dataset](#Movies-dataset)\n",
    "    - [Plot summaries dataset](#Plot-summaries-dataset)\n",
    "- [External datasets](#External-datasets)\n",
    "    - [Scrapping Data](#Scrapping-Data)\n",
    "    - [Scrapped Data Preprocessing](#Scrapped-Data-Preprocessing)\n",
    "- [Data merging](#Data-merging)\n",
    "- [Data exploration](#Data-exploration)"
   ]
  },
  {
   "cell_type": "markdown",
   "metadata": {},
   "source": [
    "# Data loading"
   ]
  },
  {
   "cell_type": "markdown",
   "metadata": {},
   "source": [
    "First let's do some imports and set up the environment."
   ]
  },
  {
   "cell_type": "code",
   "execution_count": 58,
   "metadata": {},
   "outputs": [],
   "source": [
    "import pandas as pd\n",
    "import numpy as np\n",
    "import matplotlib.pyplot as plt\n",
    "import seaborn as sns"
   ]
  },
  {
   "cell_type": "markdown",
   "metadata": {},
   "source": [
    "Let's load the provided data by adding the appropriate header and take a look at the first few rows."
   ]
  },
  {
   "cell_type": "code",
   "execution_count": 59,
   "metadata": {},
   "outputs": [],
   "source": [
    "# For the characters metadata\n",
    "character_header = ['Wikipedia movie ID', 'Freebase movie ID', 'Movie release date', 'Character name', 'Actor date of birth', 'Actor gender', 'Actor height', 'Actor ethnicity', 'Actor name', 'Actor age at movie release', 'Freebase actor map ID', 'Freebase character ID', 'Freebase actor ID']\n",
    "df_characters = pd.read_table('data/character.metadata.tsv', names=character_header)\n",
    "\n",
    "# For the movies metadata\n",
    "movie_header = ['Wikipedia movie ID', 'Freebase movie ID', 'Movie name', 'Movie release date', 'Movie box office revenue', 'Movie runtime', 'Movie languages', 'Movie countries', 'Movie genres']\n",
    "df_movies = pd.read_table('data/movie.metadata.tsv', names=movie_header)\n",
    "\n",
    "# For the plot summaries\n",
    "plot_header = ['Wikipedia movie ID', 'Plot summary']\n",
    "df_plots = pd.read_table('data/plot_summaries.txt', names=plot_header)"
   ]
  },
  {
   "cell_type": "code",
   "execution_count": 60,
   "metadata": {},
   "outputs": [
    {
     "name": "stdout",
     "output_type": "stream",
     "text": [
      "<class 'pandas.core.frame.DataFrame'>\n",
      "RangeIndex: 450669 entries, 0 to 450668\n",
      "Data columns (total 13 columns):\n",
      " #   Column                      Non-Null Count   Dtype  \n",
      "---  ------                      --------------   -----  \n",
      " 0   Wikipedia movie ID          450669 non-null  int64  \n",
      " 1   Freebase movie ID           450669 non-null  object \n",
      " 2   Movie release date          440674 non-null  object \n",
      " 3   Character name              192794 non-null  object \n",
      " 4   Actor date of birth         344524 non-null  object \n",
      " 5   Actor gender                405060 non-null  object \n",
      " 6   Actor height                154824 non-null  float64\n",
      " 7   Actor ethnicity             106058 non-null  object \n",
      " 8   Actor name                  449441 non-null  object \n",
      " 9   Actor age at movie release  292556 non-null  float64\n",
      " 10  Freebase actor map ID       450669 non-null  object \n",
      " 11  Freebase character ID       192804 non-null  object \n",
      " 12  Freebase actor ID           449854 non-null  object \n",
      "dtypes: float64(2), int64(1), object(10)\n",
      "memory usage: 44.7+ MB\n"
     ]
    }
   ],
   "source": [
    "df_characters.info()"
   ]
  },
  {
   "cell_type": "markdown",
   "metadata": {},
   "source": [
    "# Initial dataset preprocessing"
   ]
  },
  {
   "cell_type": "markdown",
   "metadata": {},
   "source": [
    "## Characters dataset"
   ]
  },
  {
   "cell_type": "markdown",
   "metadata": {},
   "source": [
    "Let's check if we can find some missing values in the dataset."
   ]
  },
  {
   "cell_type": "code",
   "execution_count": 61,
   "metadata": {},
   "outputs": [
    {
     "name": "stdout",
     "output_type": "stream",
     "text": [
      "<class 'pandas.core.frame.DataFrame'>\n",
      "RangeIndex: 450669 entries, 0 to 450668\n",
      "Data columns (total 13 columns):\n",
      " #   Column                      Non-Null Count   Dtype  \n",
      "---  ------                      --------------   -----  \n",
      " 0   Wikipedia movie ID          450669 non-null  int64  \n",
      " 1   Freebase movie ID           450669 non-null  object \n",
      " 2   Movie release date          440674 non-null  object \n",
      " 3   Character name              192794 non-null  object \n",
      " 4   Actor date of birth         344524 non-null  object \n",
      " 5   Actor gender                405060 non-null  object \n",
      " 6   Actor height                154824 non-null  float64\n",
      " 7   Actor ethnicity             106058 non-null  object \n",
      " 8   Actor name                  449441 non-null  object \n",
      " 9   Actor age at movie release  292556 non-null  float64\n",
      " 10  Freebase actor map ID       450669 non-null  object \n",
      " 11  Freebase character ID       192804 non-null  object \n",
      " 12  Freebase actor ID           449854 non-null  object \n",
      "dtypes: float64(2), int64(1), object(10)\n",
      "memory usage: 44.7+ MB\n"
     ]
    }
   ],
   "source": [
    "df_characters.info()"
   ]
  },
  {
   "cell_type": "markdown",
   "metadata": {},
   "source": [
    "We can identify from the output above that:\n",
    "- There are some *missing values*\n",
    "- Some *type are not exploitable* (e.g. the `Movie release date` and `Actor date of birth`  are `object`s, not exploitable dates)"
   ]
  },
  {
   "cell_type": "markdown",
   "metadata": {},
   "source": [
    "We  first tackle the type problem by converting the `object` type to `datetime` type."
   ]
  },
  {
   "cell_type": "code",
   "execution_count": 62,
   "metadata": {},
   "outputs": [
    {
     "data": {
      "text/plain": [
       "383551          1959\n",
       "277003          1998\n",
       "313396    2003-09-03\n",
       "360222    1997-05-02\n",
       "51420           1927\n",
       "194705    1957-12-17\n",
       "99990     2002-07-09\n",
       "370329    1977-01-10\n",
       "112034    1996-06-10\n",
       "98150           1999\n",
       "Name: Movie release date, dtype: object"
      ]
     },
     "execution_count": 62,
     "metadata": {},
     "output_type": "execute_result"
    }
   ],
   "source": [
    "df_characters['Movie release date'].sample(10)"
   ]
  },
  {
   "cell_type": "code",
   "execution_count": 63,
   "metadata": {},
   "outputs": [
    {
     "name": "stdout",
     "output_type": "stream",
     "text": [
      "Have lost 15 release dates now there are 10010 missing\n",
      "Have lost 14637 birth dates now there are 120782 missing\n"
     ]
    }
   ],
   "source": [
    "nb_missing_release_date_before = df_characters['Movie release date'].isna().sum()\n",
    "nb_missing_birth_date_before = df_characters['Actor date of birth'].isna().sum()\n",
    "\n",
    "# Convert to datetime using the ISO8601 format\n",
    "df_characters['Movie release date'] = pd.to_datetime(df_characters['Movie release date'], errors='coerce', format='ISO8601')\n",
    "df_characters['Actor date of birth'] = pd.to_datetime(df_characters['Actor date of birth'], errors='coerce')\n",
    "\n",
    "print('Have lost %d release dates'%(df_characters['Movie release date'].isna().sum() - nb_missing_release_date_before), 'now there are %d missing'%(df_characters['Movie release date'].isna().sum()))\n",
    "print('Have lost %d birth dates'%(df_characters['Actor date of birth'].isna().sum() - nb_missing_birth_date_before), 'now there are %d missing'%(df_characters['Actor date of birth'].isna().sum()))"
   ]
  },
  {
   "cell_type": "markdown",
   "metadata": {},
   "source": [
    "Concerning the *missing values* problem, we have 3 options: not using the problematic columns, dropping the rows or filling the missing values using external source.\n",
    "\n",
    "Now we'll take a look at the values and see if we can find some outliers."
   ]
  },
  {
   "cell_type": "code",
   "execution_count": 64,
   "metadata": {},
   "outputs": [
    {
     "data": {
      "text/html": [
       "<div>\n",
       "<style scoped>\n",
       "    .dataframe tbody tr th:only-of-type {\n",
       "        vertical-align: middle;\n",
       "    }\n",
       "\n",
       "    .dataframe tbody tr th {\n",
       "        vertical-align: top;\n",
       "    }\n",
       "\n",
       "    .dataframe thead th {\n",
       "        text-align: right;\n",
       "    }\n",
       "</style>\n",
       "<table border=\"1\" class=\"dataframe\">\n",
       "  <thead>\n",
       "    <tr style=\"text-align: right;\">\n",
       "      <th></th>\n",
       "      <th>Wikipedia movie ID</th>\n",
       "      <th>Freebase movie ID</th>\n",
       "      <th>Movie release date</th>\n",
       "      <th>Character name</th>\n",
       "      <th>Actor date of birth</th>\n",
       "      <th>Actor gender</th>\n",
       "      <th>Actor height</th>\n",
       "      <th>Actor ethnicity</th>\n",
       "      <th>Actor name</th>\n",
       "      <th>Actor age at movie release</th>\n",
       "      <th>Freebase actor map ID</th>\n",
       "      <th>Freebase character ID</th>\n",
       "      <th>Freebase actor ID</th>\n",
       "    </tr>\n",
       "  </thead>\n",
       "  <tbody>\n",
       "    <tr>\n",
       "      <th>count</th>\n",
       "      <td>4.506690e+05</td>\n",
       "      <td>450669</td>\n",
       "      <td>440659</td>\n",
       "      <td>192794</td>\n",
       "      <td>329887</td>\n",
       "      <td>405060</td>\n",
       "      <td>154824.000000</td>\n",
       "      <td>106058</td>\n",
       "      <td>449441</td>\n",
       "      <td>292556.000000</td>\n",
       "      <td>450669</td>\n",
       "      <td>192804</td>\n",
       "      <td>449854</td>\n",
       "    </tr>\n",
       "    <tr>\n",
       "      <th>unique</th>\n",
       "      <td>NaN</td>\n",
       "      <td>64330</td>\n",
       "      <td>NaN</td>\n",
       "      <td>126629</td>\n",
       "      <td>NaN</td>\n",
       "      <td>2</td>\n",
       "      <td>NaN</td>\n",
       "      <td>479</td>\n",
       "      <td>134078</td>\n",
       "      <td>NaN</td>\n",
       "      <td>450669</td>\n",
       "      <td>183435</td>\n",
       "      <td>135760</td>\n",
       "    </tr>\n",
       "    <tr>\n",
       "      <th>top</th>\n",
       "      <td>NaN</td>\n",
       "      <td>/m/0cc8620</td>\n",
       "      <td>NaN</td>\n",
       "      <td>Doctor</td>\n",
       "      <td>NaN</td>\n",
       "      <td>M</td>\n",
       "      <td>NaN</td>\n",
       "      <td>/m/0dryh9k</td>\n",
       "      <td>Mel Blanc</td>\n",
       "      <td>NaN</td>\n",
       "      <td>/m/0bgchxw</td>\n",
       "      <td>/m/0h577m2</td>\n",
       "      <td>/m/0c5vh</td>\n",
       "    </tr>\n",
       "    <tr>\n",
       "      <th>freq</th>\n",
       "      <td>NaN</td>\n",
       "      <td>115</td>\n",
       "      <td>NaN</td>\n",
       "      <td>198</td>\n",
       "      <td>NaN</td>\n",
       "      <td>270257</td>\n",
       "      <td>NaN</td>\n",
       "      <td>16351</td>\n",
       "      <td>791</td>\n",
       "      <td>NaN</td>\n",
       "      <td>1</td>\n",
       "      <td>146</td>\n",
       "      <td>791</td>\n",
       "    </tr>\n",
       "    <tr>\n",
       "      <th>mean</th>\n",
       "      <td>1.396975e+07</td>\n",
       "      <td>NaN</td>\n",
       "      <td>1984-11-10 22:25:30.832684736</td>\n",
       "      <td>NaN</td>\n",
       "      <td>1943-05-29 11:41:52.427588992</td>\n",
       "      <td>NaN</td>\n",
       "      <td>1.788893</td>\n",
       "      <td>NaN</td>\n",
       "      <td>NaN</td>\n",
       "      <td>37.788523</td>\n",
       "      <td>NaN</td>\n",
       "      <td>NaN</td>\n",
       "      <td>NaN</td>\n",
       "    </tr>\n",
       "    <tr>\n",
       "      <th>min</th>\n",
       "      <td>3.300000e+02</td>\n",
       "      <td>NaN</td>\n",
       "      <td>1888-01-01 00:00:00</td>\n",
       "      <td>NaN</td>\n",
       "      <td>1796-09-20 00:00:00</td>\n",
       "      <td>NaN</td>\n",
       "      <td>0.610000</td>\n",
       "      <td>NaN</td>\n",
       "      <td>NaN</td>\n",
       "      <td>-7896.000000</td>\n",
       "      <td>NaN</td>\n",
       "      <td>NaN</td>\n",
       "      <td>NaN</td>\n",
       "    </tr>\n",
       "    <tr>\n",
       "      <th>25%</th>\n",
       "      <td>3.759292e+06</td>\n",
       "      <td>NaN</td>\n",
       "      <td>1969-01-01 00:00:00</td>\n",
       "      <td>NaN</td>\n",
       "      <td>1922-09-01 00:00:00</td>\n",
       "      <td>NaN</td>\n",
       "      <td>1.676400</td>\n",
       "      <td>NaN</td>\n",
       "      <td>NaN</td>\n",
       "      <td>28.000000</td>\n",
       "      <td>NaN</td>\n",
       "      <td>NaN</td>\n",
       "      <td>NaN</td>\n",
       "    </tr>\n",
       "    <tr>\n",
       "      <th>50%</th>\n",
       "      <td>1.189065e+07</td>\n",
       "      <td>NaN</td>\n",
       "      <td>1994-01-01 00:00:00</td>\n",
       "      <td>NaN</td>\n",
       "      <td>1948-02-25 00:00:00</td>\n",
       "      <td>NaN</td>\n",
       "      <td>1.750000</td>\n",
       "      <td>NaN</td>\n",
       "      <td>NaN</td>\n",
       "      <td>36.000000</td>\n",
       "      <td>NaN</td>\n",
       "      <td>NaN</td>\n",
       "      <td>NaN</td>\n",
       "    </tr>\n",
       "    <tr>\n",
       "      <th>75%</th>\n",
       "      <td>2.366501e+07</td>\n",
       "      <td>NaN</td>\n",
       "      <td>2005-08-20 00:00:00</td>\n",
       "      <td>NaN</td>\n",
       "      <td>1966-07-11 00:00:00</td>\n",
       "      <td>NaN</td>\n",
       "      <td>1.830000</td>\n",
       "      <td>NaN</td>\n",
       "      <td>NaN</td>\n",
       "      <td>47.000000</td>\n",
       "      <td>NaN</td>\n",
       "      <td>NaN</td>\n",
       "      <td>NaN</td>\n",
       "    </tr>\n",
       "    <tr>\n",
       "      <th>max</th>\n",
       "      <td>3.750192e+07</td>\n",
       "      <td>NaN</td>\n",
       "      <td>2016-06-08 00:00:00</td>\n",
       "      <td>NaN</td>\n",
       "      <td>2011-09-02 00:00:00</td>\n",
       "      <td>NaN</td>\n",
       "      <td>510.000000</td>\n",
       "      <td>NaN</td>\n",
       "      <td>NaN</td>\n",
       "      <td>103.000000</td>\n",
       "      <td>NaN</td>\n",
       "      <td>NaN</td>\n",
       "      <td>NaN</td>\n",
       "    </tr>\n",
       "    <tr>\n",
       "      <th>std</th>\n",
       "      <td>1.079662e+07</td>\n",
       "      <td>NaN</td>\n",
       "      <td>NaN</td>\n",
       "      <td>NaN</td>\n",
       "      <td>NaN</td>\n",
       "      <td>NaN</td>\n",
       "      <td>4.379940</td>\n",
       "      <td>NaN</td>\n",
       "      <td>NaN</td>\n",
       "      <td>20.587870</td>\n",
       "      <td>NaN</td>\n",
       "      <td>NaN</td>\n",
       "      <td>NaN</td>\n",
       "    </tr>\n",
       "  </tbody>\n",
       "</table>\n",
       "</div>"
      ],
      "text/plain": [
       "        Wikipedia movie ID Freebase movie ID             Movie release date   \n",
       "count         4.506690e+05            450669                         440659  \\\n",
       "unique                 NaN             64330                            NaN   \n",
       "top                    NaN        /m/0cc8620                            NaN   \n",
       "freq                   NaN               115                            NaN   \n",
       "mean          1.396975e+07               NaN  1984-11-10 22:25:30.832684736   \n",
       "min           3.300000e+02               NaN            1888-01-01 00:00:00   \n",
       "25%           3.759292e+06               NaN            1969-01-01 00:00:00   \n",
       "50%           1.189065e+07               NaN            1994-01-01 00:00:00   \n",
       "75%           2.366501e+07               NaN            2005-08-20 00:00:00   \n",
       "max           3.750192e+07               NaN            2016-06-08 00:00:00   \n",
       "std           1.079662e+07               NaN                            NaN   \n",
       "\n",
       "       Character name            Actor date of birth Actor gender   \n",
       "count          192794                         329887       405060  \\\n",
       "unique         126629                            NaN            2   \n",
       "top            Doctor                            NaN            M   \n",
       "freq              198                            NaN       270257   \n",
       "mean              NaN  1943-05-29 11:41:52.427588992          NaN   \n",
       "min               NaN            1796-09-20 00:00:00          NaN   \n",
       "25%               NaN            1922-09-01 00:00:00          NaN   \n",
       "50%               NaN            1948-02-25 00:00:00          NaN   \n",
       "75%               NaN            1966-07-11 00:00:00          NaN   \n",
       "max               NaN            2011-09-02 00:00:00          NaN   \n",
       "std               NaN                            NaN          NaN   \n",
       "\n",
       "         Actor height Actor ethnicity Actor name  Actor age at movie release   \n",
       "count   154824.000000          106058     449441               292556.000000  \\\n",
       "unique            NaN             479     134078                         NaN   \n",
       "top               NaN      /m/0dryh9k  Mel Blanc                         NaN   \n",
       "freq              NaN           16351        791                         NaN   \n",
       "mean         1.788893             NaN        NaN                   37.788523   \n",
       "min          0.610000             NaN        NaN                -7896.000000   \n",
       "25%          1.676400             NaN        NaN                   28.000000   \n",
       "50%          1.750000             NaN        NaN                   36.000000   \n",
       "75%          1.830000             NaN        NaN                   47.000000   \n",
       "max        510.000000             NaN        NaN                  103.000000   \n",
       "std          4.379940             NaN        NaN                   20.587870   \n",
       "\n",
       "       Freebase actor map ID Freebase character ID Freebase actor ID  \n",
       "count                 450669                192804            449854  \n",
       "unique                450669                183435            135760  \n",
       "top               /m/0bgchxw            /m/0h577m2          /m/0c5vh  \n",
       "freq                       1                   146               791  \n",
       "mean                     NaN                   NaN               NaN  \n",
       "min                      NaN                   NaN               NaN  \n",
       "25%                      NaN                   NaN               NaN  \n",
       "50%                      NaN                   NaN               NaN  \n",
       "75%                      NaN                   NaN               NaN  \n",
       "max                      NaN                   NaN               NaN  \n",
       "std                      NaN                   NaN               NaN  "
      ]
     },
     "execution_count": 64,
     "metadata": {},
     "output_type": "execute_result"
    }
   ],
   "source": [
    "df_characters.describe(include='all')"
   ]
  },
  {
   "cell_type": "markdown",
   "metadata": {},
   "source": [
    "Uh, we can find a few interesting results:\n",
    "- How can an actors' height be 510m ? \n",
    "- How can an actor's age be negative ?\n",
    "\n",
    "Let's first take a look at the corresponding row for the heigh"
   ]
  },
  {
   "cell_type": "code",
   "execution_count": 65,
   "metadata": {},
   "outputs": [
    {
     "data": {
      "text/html": [
       "<div>\n",
       "<style scoped>\n",
       "    .dataframe tbody tr th:only-of-type {\n",
       "        vertical-align: middle;\n",
       "    }\n",
       "\n",
       "    .dataframe tbody tr th {\n",
       "        vertical-align: top;\n",
       "    }\n",
       "\n",
       "    .dataframe thead th {\n",
       "        text-align: right;\n",
       "    }\n",
       "</style>\n",
       "<table border=\"1\" class=\"dataframe\">\n",
       "  <thead>\n",
       "    <tr style=\"text-align: right;\">\n",
       "      <th></th>\n",
       "      <th>Wikipedia movie ID</th>\n",
       "      <th>Freebase movie ID</th>\n",
       "      <th>Movie release date</th>\n",
       "      <th>Character name</th>\n",
       "      <th>Actor date of birth</th>\n",
       "      <th>Actor gender</th>\n",
       "      <th>Actor height</th>\n",
       "      <th>Actor ethnicity</th>\n",
       "      <th>Actor name</th>\n",
       "      <th>Actor age at movie release</th>\n",
       "      <th>Freebase actor map ID</th>\n",
       "      <th>Freebase character ID</th>\n",
       "      <th>Freebase actor ID</th>\n",
       "    </tr>\n",
       "  </thead>\n",
       "  <tbody>\n",
       "    <tr>\n",
       "      <th>21619</th>\n",
       "      <td>1291587</td>\n",
       "      <td>/m/04qk12</td>\n",
       "      <td>2004-09-01</td>\n",
       "      <td>young Georgie</td>\n",
       "      <td>1986-03-13</td>\n",
       "      <td>M</td>\n",
       "      <td>180.0</td>\n",
       "      <td>/m/0dc58y8</td>\n",
       "      <td>Zohren Weiss</td>\n",
       "      <td>18.0</td>\n",
       "      <td>/m/0k276dx</td>\n",
       "      <td>/m/0k276dz</td>\n",
       "      <td>/m/0bggwvl</td>\n",
       "    </tr>\n",
       "    <tr>\n",
       "      <th>49659</th>\n",
       "      <td>30865068</td>\n",
       "      <td>/m/02ml14</td>\n",
       "      <td>1998-10-15</td>\n",
       "      <td>NaN</td>\n",
       "      <td>1972-12-06</td>\n",
       "      <td>M</td>\n",
       "      <td>510.0</td>\n",
       "      <td>NaN</td>\n",
       "      <td>Vince Corazza</td>\n",
       "      <td>25.0</td>\n",
       "      <td>/m/0n9ld0y</td>\n",
       "      <td>NaN</td>\n",
       "      <td>/m/08hqh0</td>\n",
       "    </tr>\n",
       "    <tr>\n",
       "      <th>59719</th>\n",
       "      <td>12206655</td>\n",
       "      <td>/m/02vvw24</td>\n",
       "      <td>NaT</td>\n",
       "      <td>Dominic</td>\n",
       "      <td>1986-03-13</td>\n",
       "      <td>M</td>\n",
       "      <td>180.0</td>\n",
       "      <td>/m/0dc58y8</td>\n",
       "      <td>Zohren Weiss</td>\n",
       "      <td>NaN</td>\n",
       "      <td>/m/0k276dq</td>\n",
       "      <td>/m/0h8hcr1</td>\n",
       "      <td>/m/0bggwvl</td>\n",
       "    </tr>\n",
       "    <tr>\n",
       "      <th>104140</th>\n",
       "      <td>17999628</td>\n",
       "      <td>/m/047n_2q</td>\n",
       "      <td>1998-01-01</td>\n",
       "      <td>NaN</td>\n",
       "      <td>1972-12-06</td>\n",
       "      <td>M</td>\n",
       "      <td>510.0</td>\n",
       "      <td>NaN</td>\n",
       "      <td>Vince Corazza</td>\n",
       "      <td>25.0</td>\n",
       "      <td>/m/0cg31bd</td>\n",
       "      <td>NaN</td>\n",
       "      <td>/m/08hqh0</td>\n",
       "    </tr>\n",
       "    <tr>\n",
       "      <th>205679</th>\n",
       "      <td>1373475</td>\n",
       "      <td>/m/04xmx8</td>\n",
       "      <td>2003-08-15</td>\n",
       "      <td>Jackal Johnson</td>\n",
       "      <td>1972-12-06</td>\n",
       "      <td>M</td>\n",
       "      <td>510.0</td>\n",
       "      <td>NaN</td>\n",
       "      <td>Vince Corazza</td>\n",
       "      <td>30.0</td>\n",
       "      <td>/m/02vbm0k</td>\n",
       "      <td>/m/0h60xk7</td>\n",
       "      <td>/m/08hqh0</td>\n",
       "    </tr>\n",
       "    <tr>\n",
       "      <th>219383</th>\n",
       "      <td>179326</td>\n",
       "      <td>/m/018gq3</td>\n",
       "      <td>1996-11-18</td>\n",
       "      <td>Herbert</td>\n",
       "      <td>1986-03-13</td>\n",
       "      <td>M</td>\n",
       "      <td>180.0</td>\n",
       "      <td>/m/0dc58y8</td>\n",
       "      <td>Zohren Weiss</td>\n",
       "      <td>10.0</td>\n",
       "      <td>/m/0bggwv8</td>\n",
       "      <td>/m/0bggwvc</td>\n",
       "      <td>/m/0bggwvl</td>\n",
       "    </tr>\n",
       "    <tr>\n",
       "      <th>301653</th>\n",
       "      <td>4667507</td>\n",
       "      <td>/m/0cg9n6</td>\n",
       "      <td>2001-11-29</td>\n",
       "      <td>NaN</td>\n",
       "      <td>1972-12-06</td>\n",
       "      <td>M</td>\n",
       "      <td>510.0</td>\n",
       "      <td>NaN</td>\n",
       "      <td>Vince Corazza</td>\n",
       "      <td>28.0</td>\n",
       "      <td>/m/0cg0zwp</td>\n",
       "      <td>NaN</td>\n",
       "      <td>/m/08hqh0</td>\n",
       "    </tr>\n",
       "    <tr>\n",
       "      <th>316621</th>\n",
       "      <td>3915041</td>\n",
       "      <td>/m/0b6lyp</td>\n",
       "      <td>2002-01-01</td>\n",
       "      <td>NaN</td>\n",
       "      <td>1972-12-06</td>\n",
       "      <td>M</td>\n",
       "      <td>510.0</td>\n",
       "      <td>NaN</td>\n",
       "      <td>Vince Corazza</td>\n",
       "      <td>29.0</td>\n",
       "      <td>/m/02vc5p5</td>\n",
       "      <td>NaN</td>\n",
       "      <td>/m/08hqh0</td>\n",
       "    </tr>\n",
       "    <tr>\n",
       "      <th>341890</th>\n",
       "      <td>29290087</td>\n",
       "      <td>/m/0b3w9mr</td>\n",
       "      <td>1997-04-07</td>\n",
       "      <td>NaN</td>\n",
       "      <td>1972-12-06</td>\n",
       "      <td>M</td>\n",
       "      <td>510.0</td>\n",
       "      <td>NaN</td>\n",
       "      <td>Vince Corazza</td>\n",
       "      <td>24.0</td>\n",
       "      <td>/m/0gvwy8x</td>\n",
       "      <td>NaN</td>\n",
       "      <td>/m/08hqh0</td>\n",
       "    </tr>\n",
       "    <tr>\n",
       "      <th>360967</th>\n",
       "      <td>14413223</td>\n",
       "      <td>/m/03d2rnl</td>\n",
       "      <td>2012-04-20</td>\n",
       "      <td>Young Punk Guy</td>\n",
       "      <td>1986-03-13</td>\n",
       "      <td>M</td>\n",
       "      <td>180.0</td>\n",
       "      <td>/m/0dc58y8</td>\n",
       "      <td>Zohren Weiss</td>\n",
       "      <td>26.0</td>\n",
       "      <td>/m/0m4q87d</td>\n",
       "      <td>/m/0k9tfs8</td>\n",
       "      <td>/m/0bggwvl</td>\n",
       "    </tr>\n",
       "    <tr>\n",
       "      <th>369731</th>\n",
       "      <td>33945838</td>\n",
       "      <td>/m/0hn8wrq</td>\n",
       "      <td>2012-09-29</td>\n",
       "      <td>Max Loflin</td>\n",
       "      <td>NaT</td>\n",
       "      <td>M</td>\n",
       "      <td>510.0</td>\n",
       "      <td>NaN</td>\n",
       "      <td>Benedict Smith</td>\n",
       "      <td>NaN</td>\n",
       "      <td>/m/0n3kptl</td>\n",
       "      <td>/m/0n3kptp</td>\n",
       "      <td>/m/0n3kptx</td>\n",
       "    </tr>\n",
       "    <tr>\n",
       "      <th>380739</th>\n",
       "      <td>4738411</td>\n",
       "      <td>/m/0ckr7s</td>\n",
       "      <td>1993-12-05</td>\n",
       "      <td>Darien - Tuxedo Mask</td>\n",
       "      <td>1972-12-06</td>\n",
       "      <td>M</td>\n",
       "      <td>510.0</td>\n",
       "      <td>NaN</td>\n",
       "      <td>Vince Corazza</td>\n",
       "      <td>20.0</td>\n",
       "      <td>/m/0bmz820</td>\n",
       "      <td>/m/0lyzygr</td>\n",
       "      <td>/m/08hqh0</td>\n",
       "    </tr>\n",
       "    <tr>\n",
       "      <th>393292</th>\n",
       "      <td>1244822</td>\n",
       "      <td>/m/04lq2l</td>\n",
       "      <td>2003-01-23</td>\n",
       "      <td>NaN</td>\n",
       "      <td>1972-12-06</td>\n",
       "      <td>M</td>\n",
       "      <td>510.0</td>\n",
       "      <td>NaN</td>\n",
       "      <td>Vince Corazza</td>\n",
       "      <td>30.0</td>\n",
       "      <td>/m/0bfm1b6</td>\n",
       "      <td>NaN</td>\n",
       "      <td>/m/08hqh0</td>\n",
       "    </tr>\n",
       "    <tr>\n",
       "      <th>406151</th>\n",
       "      <td>4578386</td>\n",
       "      <td>/m/0c9sj8</td>\n",
       "      <td>2004-04-06</td>\n",
       "      <td>NaN</td>\n",
       "      <td>1972-12-06</td>\n",
       "      <td>M</td>\n",
       "      <td>510.0</td>\n",
       "      <td>NaN</td>\n",
       "      <td>Vince Corazza</td>\n",
       "      <td>31.0</td>\n",
       "      <td>/m/03lj_70</td>\n",
       "      <td>NaN</td>\n",
       "      <td>/m/08hqh0</td>\n",
       "    </tr>\n",
       "    <tr>\n",
       "      <th>427957</th>\n",
       "      <td>4738587</td>\n",
       "      <td>/m/0ckrgs</td>\n",
       "      <td>1994-12-04</td>\n",
       "      <td>Tuxedo Mask</td>\n",
       "      <td>1972-12-06</td>\n",
       "      <td>M</td>\n",
       "      <td>510.0</td>\n",
       "      <td>NaN</td>\n",
       "      <td>Vince Corazza</td>\n",
       "      <td>21.0</td>\n",
       "      <td>/m/0lyz8r1</td>\n",
       "      <td>/m/01_7kc</td>\n",
       "      <td>/m/08hqh0</td>\n",
       "    </tr>\n",
       "  </tbody>\n",
       "</table>\n",
       "</div>"
      ],
      "text/plain": [
       "        Wikipedia movie ID Freebase movie ID Movie release date   \n",
       "21619              1291587         /m/04qk12         2004-09-01  \\\n",
       "49659             30865068         /m/02ml14         1998-10-15   \n",
       "59719             12206655        /m/02vvw24                NaT   \n",
       "104140            17999628        /m/047n_2q         1998-01-01   \n",
       "205679             1373475         /m/04xmx8         2003-08-15   \n",
       "219383              179326         /m/018gq3         1996-11-18   \n",
       "301653             4667507         /m/0cg9n6         2001-11-29   \n",
       "316621             3915041         /m/0b6lyp         2002-01-01   \n",
       "341890            29290087        /m/0b3w9mr         1997-04-07   \n",
       "360967            14413223        /m/03d2rnl         2012-04-20   \n",
       "369731            33945838        /m/0hn8wrq         2012-09-29   \n",
       "380739             4738411         /m/0ckr7s         1993-12-05   \n",
       "393292             1244822         /m/04lq2l         2003-01-23   \n",
       "406151             4578386         /m/0c9sj8         2004-04-06   \n",
       "427957             4738587         /m/0ckrgs         1994-12-04   \n",
       "\n",
       "              Character name Actor date of birth Actor gender  Actor height   \n",
       "21619          young Georgie          1986-03-13            M         180.0  \\\n",
       "49659                    NaN          1972-12-06            M         510.0   \n",
       "59719                Dominic          1986-03-13            M         180.0   \n",
       "104140                   NaN          1972-12-06            M         510.0   \n",
       "205679        Jackal Johnson          1972-12-06            M         510.0   \n",
       "219383               Herbert          1986-03-13            M         180.0   \n",
       "301653                   NaN          1972-12-06            M         510.0   \n",
       "316621                   NaN          1972-12-06            M         510.0   \n",
       "341890                   NaN          1972-12-06            M         510.0   \n",
       "360967        Young Punk Guy          1986-03-13            M         180.0   \n",
       "369731            Max Loflin                 NaT            M         510.0   \n",
       "380739  Darien - Tuxedo Mask          1972-12-06            M         510.0   \n",
       "393292                   NaN          1972-12-06            M         510.0   \n",
       "406151                   NaN          1972-12-06            M         510.0   \n",
       "427957           Tuxedo Mask          1972-12-06            M         510.0   \n",
       "\n",
       "       Actor ethnicity      Actor name  Actor age at movie release   \n",
       "21619       /m/0dc58y8    Zohren Weiss                        18.0  \\\n",
       "49659              NaN   Vince Corazza                        25.0   \n",
       "59719       /m/0dc58y8    Zohren Weiss                         NaN   \n",
       "104140             NaN   Vince Corazza                        25.0   \n",
       "205679             NaN   Vince Corazza                        30.0   \n",
       "219383      /m/0dc58y8    Zohren Weiss                        10.0   \n",
       "301653             NaN   Vince Corazza                        28.0   \n",
       "316621             NaN   Vince Corazza                        29.0   \n",
       "341890             NaN   Vince Corazza                        24.0   \n",
       "360967      /m/0dc58y8    Zohren Weiss                        26.0   \n",
       "369731             NaN  Benedict Smith                         NaN   \n",
       "380739             NaN   Vince Corazza                        20.0   \n",
       "393292             NaN   Vince Corazza                        30.0   \n",
       "406151             NaN   Vince Corazza                        31.0   \n",
       "427957             NaN   Vince Corazza                        21.0   \n",
       "\n",
       "       Freebase actor map ID Freebase character ID Freebase actor ID  \n",
       "21619             /m/0k276dx            /m/0k276dz        /m/0bggwvl  \n",
       "49659             /m/0n9ld0y                   NaN         /m/08hqh0  \n",
       "59719             /m/0k276dq            /m/0h8hcr1        /m/0bggwvl  \n",
       "104140            /m/0cg31bd                   NaN         /m/08hqh0  \n",
       "205679            /m/02vbm0k            /m/0h60xk7         /m/08hqh0  \n",
       "219383            /m/0bggwv8            /m/0bggwvc        /m/0bggwvl  \n",
       "301653            /m/0cg0zwp                   NaN         /m/08hqh0  \n",
       "316621            /m/02vc5p5                   NaN         /m/08hqh0  \n",
       "341890            /m/0gvwy8x                   NaN         /m/08hqh0  \n",
       "360967            /m/0m4q87d            /m/0k9tfs8        /m/0bggwvl  \n",
       "369731            /m/0n3kptl            /m/0n3kptp        /m/0n3kptx  \n",
       "380739            /m/0bmz820            /m/0lyzygr         /m/08hqh0  \n",
       "393292            /m/0bfm1b6                   NaN         /m/08hqh0  \n",
       "406151            /m/03lj_70                   NaN         /m/08hqh0  \n",
       "427957            /m/0lyz8r1             /m/01_7kc         /m/08hqh0  "
      ]
     },
     "execution_count": 65,
     "metadata": {},
     "output_type": "execute_result"
    }
   ],
   "source": [
    "df_characters[df_characters['Actor height'] > 2.5]"
   ]
  },
  {
   "cell_type": "markdown",
   "metadata": {},
   "source": [
    "Using a few google searches, we found that for the 510.0m problem, the actor's height is 5'10\" (1.78m). We'll fix this value.\n",
    "Concerning the 180m problem, we can guess that the actor's height is 1.80m, but we can't find any source to confirm this (internet or other rows). We'll drop these row (4)."
   ]
  },
  {
   "cell_type": "code",
   "execution_count": 66,
   "metadata": {},
   "outputs": [],
   "source": [
    "# 510 problem: -> replace\n",
    "df_characters.loc[df_characters['Actor height'] == 510, 'Actor height']=1.78\n",
    "# 180 problem: -> drop\n",
    "df_characters.drop(df_characters[df_characters['Actor height'] == 180].index, inplace=True)"
   ]
  },
  {
   "cell_type": "markdown",
   "metadata": {},
   "source": [
    "Let's then take care of the age problem."
   ]
  },
  {
   "cell_type": "code",
   "execution_count": 67,
   "metadata": {},
   "outputs": [
    {
     "name": "stdout",
     "output_type": "stream",
     "text": [
      "381 such rows are concerned\n"
     ]
    }
   ],
   "source": [
    "print(df_characters[df_characters['Actor age at movie release'] < 0].shape[0], 'such rows are concerned')\n",
    "df_characters = df_characters[df_characters['Actor age at movie release'] > 0]"
   ]
  },
  {
   "cell_type": "code",
   "execution_count": 68,
   "metadata": {},
   "outputs": [
    {
     "data": {
      "text/plain": [
       "0"
      ]
     },
     "execution_count": 68,
     "metadata": {},
     "output_type": "execute_result"
    }
   ],
   "source": [
    "# Count the number of actor born after the movie release\n",
    "df_characters[df_characters['Actor date of birth'] > df_characters['Movie release date']].shape[0]"
   ]
  },
  {
   "cell_type": "markdown",
   "metadata": {},
   "source": [
    "This hence not a problem! We also look for duplicates."
   ]
  },
  {
   "cell_type": "code",
   "execution_count": 71,
   "metadata": {},
   "outputs": [
    {
     "data": {
      "text/plain": [
       "0"
      ]
     },
     "execution_count": 71,
     "metadata": {},
     "output_type": "execute_result"
    }
   ],
   "source": [
    "df_characters.duplicated(subset=['Wikipedia movie ID', 'Freebase actor map ID']).sum()"
   ]
  },
  {
   "cell_type": "markdown",
   "metadata": {},
   "source": [
    "Seems like there are no duplicates.\n",
    "\n",
    "We have probably now a cleaner dataset!"
   ]
  },
  {
   "cell_type": "markdown",
   "metadata": {},
   "source": [
    "## Movie dataset"
   ]
  },
  {
   "cell_type": "code",
   "execution_count": 69,
   "metadata": {},
   "outputs": [
    {
     "name": "stdout",
     "output_type": "stream",
     "text": [
      "<class 'pandas.core.frame.DataFrame'>\n",
      "RangeIndex: 81741 entries, 0 to 81740\n",
      "Data columns (total 9 columns):\n",
      " #   Column                    Non-Null Count  Dtype  \n",
      "---  ------                    --------------  -----  \n",
      " 0   Wikipedia movie ID        81741 non-null  int64  \n",
      " 1   Freebase movie ID         81741 non-null  object \n",
      " 2   Movie name                81741 non-null  object \n",
      " 3   Movie release date        74839 non-null  object \n",
      " 4   Movie box office revenue  8401 non-null   float64\n",
      " 5   Movie runtime             61291 non-null  float64\n",
      " 6   Movie languages           81741 non-null  object \n",
      " 7   Movie countries           81741 non-null  object \n",
      " 8   Movie genres              81741 non-null  object \n",
      "dtypes: float64(2), int64(1), object(6)\n",
      "memory usage: 5.6+ MB\n"
     ]
    }
   ],
   "source": [
    "df_movies.info()"
   ]
  },
  {
   "cell_type": "markdown",
   "metadata": {},
   "source": [
    "We have a similar date problem as the one we had with the characters dataset. We'll fix it the same way."
   ]
  },
  {
   "cell_type": "code",
   "execution_count": 72,
   "metadata": {},
   "outputs": [
    {
     "name": "stdout",
     "output_type": "stream",
     "text": [
      "Have lost 1 release dates now there are 6903 missing\n"
     ]
    }
   ],
   "source": [
    "nb_missing_date_before = df_movies['Movie release date'].isna().sum()\n",
    "df_movies['Movie release date'] = pd.to_datetime(df_movies['Movie release date'], errors='coerce', format='ISO8601')\n",
    "print('Have lost %d release dates'%(df_movies['Movie release date'].isna().sum() - nb_missing_date_before), 'now there are %d missing'%(df_movies['Movie release date'].isna().sum()))"
   ]
  },
  {
   "cell_type": "code",
   "execution_count": 77,
   "metadata": {},
   "outputs": [
    {
     "name": "stdout",
     "output_type": "stream",
     "text": [
      "Check for duplicate entries:\n",
      "0\n",
      "Check for duplicate entries with name only:\n",
      "6263\n",
      "Check for duplicate entries with name and date release:\n",
      "103\n",
      "Check for duplicate entries with name and movie runtime:\n",
      "628\n",
      "Check for duplicate entries with wikipedia ID:\n",
      "0\n"
     ]
    }
   ],
   "source": [
    "#Check for duplicate entries\n",
    "print('Check for duplicate entries:')\n",
    "print(df_movies.duplicated().sum())\n",
    "\n",
    "#Check for duplicate entries with name only\n",
    "print('Check for duplicate entries with name only:')\n",
    "print(df_movies.duplicated(subset=['Movie name']).sum())\n",
    "\n",
    "#Check for duplicate entries with name and date release only\n",
    "print('Check for duplicate entries with name and date release:')\n",
    "print(df_movies.duplicated(subset=['Movie name', 'Movie release date']).sum())\n",
    "\n",
    "#Check for duplicate entries with name and date release only\n",
    "print('Check for duplicate entries with name and movie runtime:')\n",
    "print(df_movies.duplicated(subset=['Movie name', 'Movie runtime']).sum())\n",
    "\n",
    "#Check for duplicate entries with name and date release only\n",
    "print('Check for duplicate entries with wikipedia ID:')\n",
    "print(df_movies.duplicated(subset=['Wikipedia movie ID']).sum())"
   ]
  },
  {
   "cell_type": "markdown",
   "metadata": {},
   "source": []
  },
  {
   "cell_type": "code",
   "execution_count": null,
   "metadata": {},
   "outputs": [
    {
     "name": "stdout",
     "output_type": "stream",
     "text": [
      "381 such rows are concerned\n"
     ]
    }
   ],
   "source": [
    "print(df_characters[df_characters['Actor age at movie release'] < 0].shape[0], 'such rows are concerned')\n",
    "df_characters = df_characters[df_characters['Actor age at movie release'] > 0]"
   ]
  },
  {
   "cell_type": "markdown",
   "metadata": {},
   "source": [
    "We have some duplicate entries on the name but the wikipedia ID is always unique"
   ]
  },
  {
   "cell_type": "code",
   "execution_count": 78,
   "metadata": {},
   "outputs": [
    {
     "data": {
      "text/html": [
       "<div>\n",
       "<style scoped>\n",
       "    .dataframe tbody tr th:only-of-type {\n",
       "        vertical-align: middle;\n",
       "    }\n",
       "\n",
       "    .dataframe tbody tr th {\n",
       "        vertical-align: top;\n",
       "    }\n",
       "\n",
       "    .dataframe thead th {\n",
       "        text-align: right;\n",
       "    }\n",
       "</style>\n",
       "<table border=\"1\" class=\"dataframe\">\n",
       "  <thead>\n",
       "    <tr style=\"text-align: right;\">\n",
       "      <th></th>\n",
       "      <th>Wikipedia movie ID</th>\n",
       "      <th>Freebase movie ID</th>\n",
       "      <th>Movie name</th>\n",
       "      <th>Movie release date</th>\n",
       "      <th>Movie box office revenue</th>\n",
       "      <th>Movie runtime</th>\n",
       "      <th>Movie languages</th>\n",
       "      <th>Movie countries</th>\n",
       "      <th>Movie genres</th>\n",
       "    </tr>\n",
       "  </thead>\n",
       "  <tbody>\n",
       "    <tr>\n",
       "      <th>count</th>\n",
       "      <td>8.174100e+04</td>\n",
       "      <td>81741</td>\n",
       "      <td>81741</td>\n",
       "      <td>74838</td>\n",
       "      <td>8.401000e+03</td>\n",
       "      <td>6.129100e+04</td>\n",
       "      <td>81741</td>\n",
       "      <td>81741</td>\n",
       "      <td>81741</td>\n",
       "    </tr>\n",
       "    <tr>\n",
       "      <th>unique</th>\n",
       "      <td>NaN</td>\n",
       "      <td>81741</td>\n",
       "      <td>75478</td>\n",
       "      <td>NaN</td>\n",
       "      <td>NaN</td>\n",
       "      <td>NaN</td>\n",
       "      <td>1817</td>\n",
       "      <td>2124</td>\n",
       "      <td>23817</td>\n",
       "    </tr>\n",
       "    <tr>\n",
       "      <th>top</th>\n",
       "      <td>NaN</td>\n",
       "      <td>/m/03vyhn</td>\n",
       "      <td>Alice in Wonderland</td>\n",
       "      <td>NaN</td>\n",
       "      <td>NaN</td>\n",
       "      <td>NaN</td>\n",
       "      <td>{\"/m/02h40lc\": \"English Language\"}</td>\n",
       "      <td>{\"/m/09c7w0\": \"United States of America\"}</td>\n",
       "      <td>{\"/m/07s9rl0\": \"Drama\"}</td>\n",
       "    </tr>\n",
       "    <tr>\n",
       "      <th>freq</th>\n",
       "      <td>NaN</td>\n",
       "      <td>1</td>\n",
       "      <td>17</td>\n",
       "      <td>NaN</td>\n",
       "      <td>NaN</td>\n",
       "      <td>NaN</td>\n",
       "      <td>33748</td>\n",
       "      <td>30300</td>\n",
       "      <td>6851</td>\n",
       "    </tr>\n",
       "    <tr>\n",
       "      <th>mean</th>\n",
       "      <td>1.740784e+07</td>\n",
       "      <td>NaN</td>\n",
       "      <td>NaN</td>\n",
       "      <td>1977-10-12 11:46:07.610037696</td>\n",
       "      <td>4.799363e+07</td>\n",
       "      <td>1.118192e+02</td>\n",
       "      <td>NaN</td>\n",
       "      <td>NaN</td>\n",
       "      <td>NaN</td>\n",
       "    </tr>\n",
       "    <tr>\n",
       "      <th>min</th>\n",
       "      <td>3.300000e+02</td>\n",
       "      <td>NaN</td>\n",
       "      <td>NaN</td>\n",
       "      <td>1888-01-01 00:00:00</td>\n",
       "      <td>1.000000e+04</td>\n",
       "      <td>0.000000e+00</td>\n",
       "      <td>NaN</td>\n",
       "      <td>NaN</td>\n",
       "      <td>NaN</td>\n",
       "    </tr>\n",
       "    <tr>\n",
       "      <th>25%</th>\n",
       "      <td>7.323695e+06</td>\n",
       "      <td>NaN</td>\n",
       "      <td>NaN</td>\n",
       "      <td>1956-01-01 00:00:00</td>\n",
       "      <td>2.083193e+06</td>\n",
       "      <td>8.100000e+01</td>\n",
       "      <td>NaN</td>\n",
       "      <td>NaN</td>\n",
       "      <td>NaN</td>\n",
       "    </tr>\n",
       "    <tr>\n",
       "      <th>50%</th>\n",
       "      <td>1.777899e+07</td>\n",
       "      <td>NaN</td>\n",
       "      <td>NaN</td>\n",
       "      <td>1985-05-18 12:00:00</td>\n",
       "      <td>1.063969e+07</td>\n",
       "      <td>9.300000e+01</td>\n",
       "      <td>NaN</td>\n",
       "      <td>NaN</td>\n",
       "      <td>NaN</td>\n",
       "    </tr>\n",
       "    <tr>\n",
       "      <th>75%</th>\n",
       "      <td>2.715573e+07</td>\n",
       "      <td>NaN</td>\n",
       "      <td>NaN</td>\n",
       "      <td>2004-01-01 00:00:00</td>\n",
       "      <td>4.071696e+07</td>\n",
       "      <td>1.060000e+02</td>\n",
       "      <td>NaN</td>\n",
       "      <td>NaN</td>\n",
       "      <td>NaN</td>\n",
       "    </tr>\n",
       "    <tr>\n",
       "      <th>max</th>\n",
       "      <td>3.750192e+07</td>\n",
       "      <td>NaN</td>\n",
       "      <td>NaN</td>\n",
       "      <td>2016-06-08 00:00:00</td>\n",
       "      <td>2.782275e+09</td>\n",
       "      <td>1.079281e+06</td>\n",
       "      <td>NaN</td>\n",
       "      <td>NaN</td>\n",
       "      <td>NaN</td>\n",
       "    </tr>\n",
       "    <tr>\n",
       "      <th>std</th>\n",
       "      <td>1.098791e+07</td>\n",
       "      <td>NaN</td>\n",
       "      <td>NaN</td>\n",
       "      <td>NaN</td>\n",
       "      <td>1.121753e+08</td>\n",
       "      <td>4.360070e+03</td>\n",
       "      <td>NaN</td>\n",
       "      <td>NaN</td>\n",
       "      <td>NaN</td>\n",
       "    </tr>\n",
       "  </tbody>\n",
       "</table>\n",
       "</div>"
      ],
      "text/plain": [
       "        Wikipedia movie ID Freebase movie ID           Movie name   \n",
       "count         8.174100e+04             81741                81741  \\\n",
       "unique                 NaN             81741                75478   \n",
       "top                    NaN         /m/03vyhn  Alice in Wonderland   \n",
       "freq                   NaN                 1                   17   \n",
       "mean          1.740784e+07               NaN                  NaN   \n",
       "min           3.300000e+02               NaN                  NaN   \n",
       "25%           7.323695e+06               NaN                  NaN   \n",
       "50%           1.777899e+07               NaN                  NaN   \n",
       "75%           2.715573e+07               NaN                  NaN   \n",
       "max           3.750192e+07               NaN                  NaN   \n",
       "std           1.098791e+07               NaN                  NaN   \n",
       "\n",
       "                   Movie release date  Movie box office revenue   \n",
       "count                           74838              8.401000e+03  \\\n",
       "unique                            NaN                       NaN   \n",
       "top                               NaN                       NaN   \n",
       "freq                              NaN                       NaN   \n",
       "mean    1977-10-12 11:46:07.610037696              4.799363e+07   \n",
       "min               1888-01-01 00:00:00              1.000000e+04   \n",
       "25%               1956-01-01 00:00:00              2.083193e+06   \n",
       "50%               1985-05-18 12:00:00              1.063969e+07   \n",
       "75%               2004-01-01 00:00:00              4.071696e+07   \n",
       "max               2016-06-08 00:00:00              2.782275e+09   \n",
       "std                               NaN              1.121753e+08   \n",
       "\n",
       "        Movie runtime                     Movie languages   \n",
       "count    6.129100e+04                               81741  \\\n",
       "unique            NaN                                1817   \n",
       "top               NaN  {\"/m/02h40lc\": \"English Language\"}   \n",
       "freq              NaN                               33748   \n",
       "mean     1.118192e+02                                 NaN   \n",
       "min      0.000000e+00                                 NaN   \n",
       "25%      8.100000e+01                                 NaN   \n",
       "50%      9.300000e+01                                 NaN   \n",
       "75%      1.060000e+02                                 NaN   \n",
       "max      1.079281e+06                                 NaN   \n",
       "std      4.360070e+03                                 NaN   \n",
       "\n",
       "                                  Movie countries             Movie genres  \n",
       "count                                       81741                    81741  \n",
       "unique                                       2124                    23817  \n",
       "top     {\"/m/09c7w0\": \"United States of America\"}  {\"/m/07s9rl0\": \"Drama\"}  \n",
       "freq                                        30300                     6851  \n",
       "mean                                          NaN                      NaN  \n",
       "min                                           NaN                      NaN  \n",
       "25%                                           NaN                      NaN  \n",
       "50%                                           NaN                      NaN  \n",
       "75%                                           NaN                      NaN  \n",
       "max                                           NaN                      NaN  \n",
       "std                                           NaN                      NaN  "
      ]
     },
     "execution_count": 78,
     "metadata": {},
     "output_type": "execute_result"
    }
   ],
   "source": [
    "df_movies.describe(include='all')"
   ]
  },
  {
   "cell_type": "markdown",
   "metadata": {},
   "source": [
    "Looking at the output, we may have a few observations:\n",
    "- Is there a problem with the `Movie release date` column ? There is at least one entry with a date in the future compared to when the dataset was released.\n",
    "- 2B in box office revenue seems a bit excessive, according to Google the max is around 380M$. \n",
    "- The `Movie runtime` column seems to have some outliers, with at least one movie with a runtime of 0, and one of 1 million minutes (multiple months)."
   ]
  },
  {
   "cell_type": "code",
   "execution_count": 82,
   "metadata": {},
   "outputs": [
    {
     "data": {
      "text/plain": [
       "<AxesSubplot: title={'center': 'Distribution of movie release date'}, xlabel='Movie release date', ylabel='Count'>"
      ]
     },
     "execution_count": 82,
     "metadata": {},
     "output_type": "execute_result"
    },
    {
     "data": {
      "image/png": "[encoded data removed]",
      "text/plain": [
       "<Figure size 2000x1000 with 1 Axes>"
      ]
     },
     "metadata": {},
     "output_type": "display_data"
    }
   ],
   "source": [
    "# Plot the distribution of the movie release date\n",
    "plt.figure(figsize=(20, 10))\n",
    "plt.title('Distribution of movie release date')\n",
    "plt.xlabel('Movie release date')\n",
    "plt.ylabel('Count')\n",
    "df_movies.dropna(subset=['Movie release date'])['Movie release date'].dt.year.sort_values().value_counts(sort=False).plot(kind='bar')"
   ]
  },
  {
   "cell_type": "code",
   "execution_count": 84,
   "metadata": {},
   "outputs": [
    {
     "data": {
      "text/html": [
       "<div>\n",
       "<style scoped>\n",
       "    .dataframe tbody tr th:only-of-type {\n",
       "        vertical-align: middle;\n",
       "    }\n",
       "\n",
       "    .dataframe tbody tr th {\n",
       "        vertical-align: top;\n",
       "    }\n",
       "\n",
       "    .dataframe thead th {\n",
       "        text-align: right;\n",
       "    }\n",
       "</style>\n",
       "<table border=\"1\" class=\"dataframe\">\n",
       "  <thead>\n",
       "    <tr style=\"text-align: right;\">\n",
       "      <th></th>\n",
       "      <th>Wikipedia movie ID</th>\n",
       "      <th>Freebase movie ID</th>\n",
       "      <th>Movie name</th>\n",
       "      <th>Movie release date</th>\n",
       "      <th>Movie box office revenue</th>\n",
       "      <th>Movie runtime</th>\n",
       "      <th>Movie languages</th>\n",
       "      <th>Movie countries</th>\n",
       "      <th>Movie genres</th>\n",
       "    </tr>\n",
       "  </thead>\n",
       "  <tbody>\n",
       "    <tr>\n",
       "      <th>2768</th>\n",
       "      <td>35343769</td>\n",
       "      <td>/m/0j9qc6b</td>\n",
       "      <td>Gokula Krishna</td>\n",
       "      <td>2014-04-02</td>\n",
       "      <td>NaN</td>\n",
       "      <td>NaN</td>\n",
       "      <td>{}</td>\n",
       "      <td>{}</td>\n",
       "      <td>{\"/m/02l7c8\": \"Romance Film\", \"/m/07s9rl0\": \"D...</td>\n",
       "    </tr>\n",
       "    <tr>\n",
       "      <th>8307</th>\n",
       "      <td>24179103</td>\n",
       "      <td>/m/0jwx0kc</td>\n",
       "      <td>I, Robot 2</td>\n",
       "      <td>2015-01-01</td>\n",
       "      <td>NaN</td>\n",
       "      <td>NaN</td>\n",
       "      <td>{}</td>\n",
       "      <td>{}</td>\n",
       "      <td>{\"/m/06n90\": \"Science Fiction\"}</td>\n",
       "    </tr>\n",
       "    <tr>\n",
       "      <th>30275</th>\n",
       "      <td>27554912</td>\n",
       "      <td>/m/0c03gcc</td>\n",
       "      <td>Kung Fu Panda 3</td>\n",
       "      <td>2016-03-18</td>\n",
       "      <td>NaN</td>\n",
       "      <td>NaN</td>\n",
       "      <td>{}</td>\n",
       "      <td>{}</td>\n",
       "      <td>{}</td>\n",
       "    </tr>\n",
       "    <tr>\n",
       "      <th>34022</th>\n",
       "      <td>23124260</td>\n",
       "      <td>/m/064mmw7</td>\n",
       "      <td>Jeepers Creepers 4</td>\n",
       "      <td>2016-06-08</td>\n",
       "      <td>NaN</td>\n",
       "      <td>NaN</td>\n",
       "      <td>{}</td>\n",
       "      <td>{\"/m/09c7w0\": \"United States of America\"}</td>\n",
       "      <td>{\"/m/01jfsb\": \"Thriller\", \"/m/03npn\": \"Horror\"}</td>\n",
       "    </tr>\n",
       "    <tr>\n",
       "      <th>34454</th>\n",
       "      <td>35764246</td>\n",
       "      <td>/m/0jt01_6</td>\n",
       "      <td>Appayya</td>\n",
       "      <td>2014-08-15</td>\n",
       "      <td>NaN</td>\n",
       "      <td>NaN</td>\n",
       "      <td>{\"/m/09bnf\": \"Kannada Language\"}</td>\n",
       "      <td>{\"/m/03rk0\": \"India\"}</td>\n",
       "      <td>{\"/m/02l7c8\": \"Romance Film\"}</td>\n",
       "    </tr>\n",
       "    <tr>\n",
       "      <th>34896</th>\n",
       "      <td>36534974</td>\n",
       "      <td>/m/0kdy118</td>\n",
       "      <td>Noah</td>\n",
       "      <td>2014-03-28</td>\n",
       "      <td>NaN</td>\n",
       "      <td>NaN</td>\n",
       "      <td>{\"/m/02h40lc\": \"English Language\"}</td>\n",
       "      <td>{\"/m/09c7w0\": \"United States of America\"}</td>\n",
       "      <td>{\"/m/07s9rl0\": \"Drama\", \"/m/01hmnh\": \"Fantasy\"}</td>\n",
       "    </tr>\n",
       "    <tr>\n",
       "      <th>40166</th>\n",
       "      <td>2312141</td>\n",
       "      <td>/m/072zwn</td>\n",
       "      <td>Knight Rider: The Movie</td>\n",
       "      <td>2015-01-01</td>\n",
       "      <td>NaN</td>\n",
       "      <td>NaN</td>\n",
       "      <td>{}</td>\n",
       "      <td>{\"/m/09c7w0\": \"United States of America\"}</td>\n",
       "      <td>{\"/m/0lsxr\": \"Crime Fiction\", \"/m/06n90\": \"Sci...</td>\n",
       "    </tr>\n",
       "    <tr>\n",
       "      <th>51429</th>\n",
       "      <td>25813358</td>\n",
       "      <td>/m/0gmbk1g</td>\n",
       "      <td>Avatar 2</td>\n",
       "      <td>2015-01-01</td>\n",
       "      <td>NaN</td>\n",
       "      <td>NaN</td>\n",
       "      <td>{\"/m/02h40lc\": \"English Language\"}</td>\n",
       "      <td>{\"/m/09c7w0\": \"United States of America\"}</td>\n",
       "      <td>{\"/m/06n90\": \"Science Fiction\", \"/m/02kdv5l\": ...</td>\n",
       "    </tr>\n",
       "    <tr>\n",
       "      <th>52234</th>\n",
       "      <td>35042288</td>\n",
       "      <td>/m/0j630fh</td>\n",
       "      <td>Bulbul</td>\n",
       "      <td>2014-07-01</td>\n",
       "      <td>NaN</td>\n",
       "      <td>NaN</td>\n",
       "      <td>{\"/m/09bnf\": \"Kannada Language\"}</td>\n",
       "      <td>{\"/m/03rk0\": \"India\"}</td>\n",
       "      <td>{}</td>\n",
       "    </tr>\n",
       "    <tr>\n",
       "      <th>53855</th>\n",
       "      <td>32416903</td>\n",
       "      <td>/m/0gys9tc</td>\n",
       "      <td>Total Dhamaal</td>\n",
       "      <td>2015-01-01</td>\n",
       "      <td>NaN</td>\n",
       "      <td>138.0</td>\n",
       "      <td>{\"/m/03k50\": \"Hindi Language\"}</td>\n",
       "      <td>{}</td>\n",
       "      <td>{\"/m/05p553\": \"Comedy film\"}</td>\n",
       "    </tr>\n",
       "    <tr>\n",
       "      <th>54999</th>\n",
       "      <td>36127934</td>\n",
       "      <td>/m/0k0tq97</td>\n",
       "      <td>Maleficent</td>\n",
       "      <td>2014-03-14</td>\n",
       "      <td>NaN</td>\n",
       "      <td>NaN</td>\n",
       "      <td>{}</td>\n",
       "      <td>{}</td>\n",
       "      <td>{\"/m/01hmnh\": \"Fantasy\"}</td>\n",
       "    </tr>\n",
       "    <tr>\n",
       "      <th>64862</th>\n",
       "      <td>3139382</td>\n",
       "      <td>/m/08tyfg</td>\n",
       "      <td>Battle Angel</td>\n",
       "      <td>2016-01-01</td>\n",
       "      <td>NaN</td>\n",
       "      <td>NaN</td>\n",
       "      <td>{\"/m/02h40lc\": \"English Language\"}</td>\n",
       "      <td>{\"/m/09c7w0\": \"United States of America\"}</td>\n",
       "      <td>{\"/m/01jfsb\": \"Thriller\", \"/m/06n90\": \"Science...</td>\n",
       "    </tr>\n",
       "    <tr>\n",
       "      <th>70420</th>\n",
       "      <td>34228489</td>\n",
       "      <td>/m/0hzml4n</td>\n",
       "      <td>Hosa Prema Purana</td>\n",
       "      <td>2014-12-30</td>\n",
       "      <td>NaN</td>\n",
       "      <td>NaN</td>\n",
       "      <td>{\"/m/09bnf\": \"Kannada Language\"}</td>\n",
       "      <td>{\"/m/03rk0\": \"India\"}</td>\n",
       "      <td>{\"/m/02l7c8\": \"Romance Film\"}</td>\n",
       "    </tr>\n",
       "    <tr>\n",
       "      <th>76661</th>\n",
       "      <td>36034066</td>\n",
       "      <td>/m/0j_7nzk</td>\n",
       "      <td>Invertigo</td>\n",
       "      <td>2014-03-07</td>\n",
       "      <td>NaN</td>\n",
       "      <td>NaN</td>\n",
       "      <td>{\"/m/02h40lc\": \"English Language\"}</td>\n",
       "      <td>{\"/m/09c7w0\": \"United States of America\"}</td>\n",
       "      <td>{\"/m/0cq22z7\": \"Sci-Fi Horror\"}</td>\n",
       "    </tr>\n",
       "  </tbody>\n",
       "</table>\n",
       "</div>"
      ],
      "text/plain": [
       "       Wikipedia movie ID Freebase movie ID               Movie name   \n",
       "2768             35343769        /m/0j9qc6b           Gokula Krishna  \\\n",
       "8307             24179103        /m/0jwx0kc               I, Robot 2   \n",
       "30275            27554912        /m/0c03gcc          Kung Fu Panda 3   \n",
       "34022            23124260        /m/064mmw7       Jeepers Creepers 4   \n",
       "34454            35764246        /m/0jt01_6                  Appayya   \n",
       "34896            36534974        /m/0kdy118                     Noah   \n",
       "40166             2312141         /m/072zwn  Knight Rider: The Movie   \n",
       "51429            25813358        /m/0gmbk1g                 Avatar 2   \n",
       "52234            35042288        /m/0j630fh                   Bulbul   \n",
       "53855            32416903        /m/0gys9tc            Total Dhamaal   \n",
       "54999            36127934        /m/0k0tq97               Maleficent   \n",
       "64862             3139382         /m/08tyfg             Battle Angel   \n",
       "70420            34228489        /m/0hzml4n        Hosa Prema Purana   \n",
       "76661            36034066        /m/0j_7nzk                Invertigo   \n",
       "\n",
       "      Movie release date  Movie box office revenue  Movie runtime   \n",
       "2768          2014-04-02                       NaN            NaN  \\\n",
       "8307          2015-01-01                       NaN            NaN   \n",
       "30275         2016-03-18                       NaN            NaN   \n",
       "34022         2016-06-08                       NaN            NaN   \n",
       "34454         2014-08-15                       NaN            NaN   \n",
       "34896         2014-03-28                       NaN            NaN   \n",
       "40166         2015-01-01                       NaN            NaN   \n",
       "51429         2015-01-01                       NaN            NaN   \n",
       "52234         2014-07-01                       NaN            NaN   \n",
       "53855         2015-01-01                       NaN          138.0   \n",
       "54999         2014-03-14                       NaN            NaN   \n",
       "64862         2016-01-01                       NaN            NaN   \n",
       "70420         2014-12-30                       NaN            NaN   \n",
       "76661         2014-03-07                       NaN            NaN   \n",
       "\n",
       "                          Movie languages   \n",
       "2768                                   {}  \\\n",
       "8307                                   {}   \n",
       "30275                                  {}   \n",
       "34022                                  {}   \n",
       "34454    {\"/m/09bnf\": \"Kannada Language\"}   \n",
       "34896  {\"/m/02h40lc\": \"English Language\"}   \n",
       "40166                                  {}   \n",
       "51429  {\"/m/02h40lc\": \"English Language\"}   \n",
       "52234    {\"/m/09bnf\": \"Kannada Language\"}   \n",
       "53855      {\"/m/03k50\": \"Hindi Language\"}   \n",
       "54999                                  {}   \n",
       "64862  {\"/m/02h40lc\": \"English Language\"}   \n",
       "70420    {\"/m/09bnf\": \"Kannada Language\"}   \n",
       "76661  {\"/m/02h40lc\": \"English Language\"}   \n",
       "\n",
       "                                 Movie countries   \n",
       "2768                                          {}  \\\n",
       "8307                                          {}   \n",
       "30275                                         {}   \n",
       "34022  {\"/m/09c7w0\": \"United States of America\"}   \n",
       "34454                      {\"/m/03rk0\": \"India\"}   \n",
       "34896  {\"/m/09c7w0\": \"United States of America\"}   \n",
       "40166  {\"/m/09c7w0\": \"United States of America\"}   \n",
       "51429  {\"/m/09c7w0\": \"United States of America\"}   \n",
       "52234                      {\"/m/03rk0\": \"India\"}   \n",
       "53855                                         {}   \n",
       "54999                                         {}   \n",
       "64862  {\"/m/09c7w0\": \"United States of America\"}   \n",
       "70420                      {\"/m/03rk0\": \"India\"}   \n",
       "76661  {\"/m/09c7w0\": \"United States of America\"}   \n",
       "\n",
       "                                            Movie genres  \n",
       "2768   {\"/m/02l7c8\": \"Romance Film\", \"/m/07s9rl0\": \"D...  \n",
       "8307                     {\"/m/06n90\": \"Science Fiction\"}  \n",
       "30275                                                 {}  \n",
       "34022    {\"/m/01jfsb\": \"Thriller\", \"/m/03npn\": \"Horror\"}  \n",
       "34454                      {\"/m/02l7c8\": \"Romance Film\"}  \n",
       "34896    {\"/m/07s9rl0\": \"Drama\", \"/m/01hmnh\": \"Fantasy\"}  \n",
       "40166  {\"/m/0lsxr\": \"Crime Fiction\", \"/m/06n90\": \"Sci...  \n",
       "51429  {\"/m/06n90\": \"Science Fiction\", \"/m/02kdv5l\": ...  \n",
       "52234                                                 {}  \n",
       "53855                       {\"/m/05p553\": \"Comedy film\"}  \n",
       "54999                           {\"/m/01hmnh\": \"Fantasy\"}  \n",
       "64862  {\"/m/01jfsb\": \"Thriller\", \"/m/06n90\": \"Science...  \n",
       "70420                      {\"/m/02l7c8\": \"Romance Film\"}  \n",
       "76661                    {\"/m/0cq22z7\": \"Sci-Fi Horror\"}  "
      ]
     },
     "execution_count": 84,
     "metadata": {},
     "output_type": "execute_result"
    }
   ],
   "source": [
    "df_movies[df_movies['Movie release date'] > pd.to_datetime('2014')]"
   ]
  },
  {
   "cell_type": "code",
   "execution_count": 87,
   "metadata": {},
   "outputs": [
    {
     "data": {
      "text/plain": [
       "14"
      ]
     },
     "execution_count": 87,
     "metadata": {},
     "output_type": "execute_result"
    }
   ],
   "source": [
    "df_movies[df_movies['Movie release date'] > pd.to_datetime('2014')].shape[0]"
   ]
  },
  {
   "cell_type": "markdown",
   "metadata": {},
   "source": [
    "We can see that there are 14 occurence of movies that were released after the release of the dataset. In order to have a more representative dataset, we'll drop these rows."
   ]
  },
  {
   "cell_type": "code",
   "execution_count": 88,
   "metadata": {},
   "outputs": [],
   "source": [
    "df_movies = df_movies[df_movies['Movie release date'] < pd.to_datetime('2014')]"
   ]
  },
  {
   "cell_type": "code",
   "execution_count": 89,
   "metadata": {},
   "outputs": [
    {
     "data": {
      "text/plain": [
       "<AxesSubplot: title={'center': 'Log distribution of movie runtime'}, xlabel='Movie runtime', ylabel='Count'>"
      ]
     },
     "execution_count": 89,
     "metadata": {},
     "output_type": "execute_result"
    },
    {
     "data": {
      "image/png": "[encoded data removed]",
      "text/plain": [
       "<Figure size 2000x1000 with 1 Axes>"
      ]
     },
     "metadata": {},
     "output_type": "display_data"
    }
   ],
   "source": [
    "plt.figure(figsize=(20,10))\n",
    "plt.title('Log distribution of movie runtime')\n",
    "plt.xlabel('Movie runtime')\n",
    "plt.ylabel('Count')\n",
    "plt.yscale('log')\n",
    "df_movies.dropna(subset=['Movie runtime'])['Movie runtime'].hist(bins=10)"
   ]
  },
  {
   "cell_type": "code",
   "execution_count": 96,
   "metadata": {},
   "outputs": [],
   "source": [
    "df_movies = df_movies[df_movies['Movie runtime'] < 5000]"
   ]
  },
  {
   "cell_type": "code",
   "execution_count": 97,
   "metadata": {},
   "outputs": [
    {
     "data": {
      "text/plain": [
       "<AxesSubplot: title={'center': 'Log distribution of movie runtime'}, xlabel='Movie runtime', ylabel='Count'>"
      ]
     },
     "execution_count": 97,
     "metadata": {},
     "output_type": "execute_result"
    },
    {
     "data": {
      "image/png": "[encoded data removed]",
      "text/plain": [
       "<Figure size 2000x1000 with 1 Axes>"
      ]
     },
     "metadata": {},
     "output_type": "display_data"
    }
   ],
   "source": [
    "plt.figure(figsize=(20,10))\n",
    "plt.title('Log distribution of movie runtime')\n",
    "plt.xlabel('Movie runtime')\n",
    "plt.ylabel('Count')\n",
    "plt.yscale('log')\n",
    "df_movies.dropna(subset=['Movie runtime'])['Movie runtime'].hist(bins=10)"
   ]
  },
  {
   "cell_type": "markdown",
   "metadata": {},
   "source": [
    "Euh wallah jsp quoi faire mon khoya, maybe la méthode des IQR mais on risque de perdre les films expérimentaux"
   ]
  },
  {
   "cell_type": "markdown",
   "metadata": {},
   "source": [
    "## Plot summaries dataset"
   ]
  },
  {
   "cell_type": "code",
   "execution_count": 98,
   "metadata": {},
   "outputs": [
    {
     "name": "stdout",
     "output_type": "stream",
     "text": [
      "<class 'pandas.core.frame.DataFrame'>\n",
      "RangeIndex: 42303 entries, 0 to 42302\n",
      "Data columns (total 2 columns):\n",
      " #   Column              Non-Null Count  Dtype \n",
      "---  ------              --------------  ----- \n",
      " 0   Wikipedia movie ID  42303 non-null  int64 \n",
      " 1   Plot summary        42303 non-null  object\n",
      "dtypes: int64(1), object(1)\n",
      "memory usage: 661.1+ KB\n"
     ]
    }
   ],
   "source": [
    "df_plots.info()"
   ]
  },
  {
   "cell_type": "code",
   "execution_count": 114,
   "metadata": {},
   "outputs": [
    {
     "data": {
      "text/plain": [
       "8"
      ]
     },
     "execution_count": 114,
     "metadata": {},
     "output_type": "execute_result"
    }
   ],
   "source": [
    "df_plots.duplicated(subset=['Plot summary']).sum()"
   ]
  },
  {
   "cell_type": "code",
   "execution_count": 116,
   "metadata": {},
   "outputs": [
    {
     "data": {
      "text/html": [
       "<div>\n",
       "<style scoped>\n",
       "    .dataframe tbody tr th:only-of-type {\n",
       "        vertical-align: middle;\n",
       "    }\n",
       "\n",
       "    .dataframe tbody tr th {\n",
       "        vertical-align: top;\n",
       "    }\n",
       "\n",
       "    .dataframe thead th {\n",
       "        text-align: right;\n",
       "    }\n",
       "</style>\n",
       "<table border=\"1\" class=\"dataframe\">\n",
       "  <thead>\n",
       "    <tr style=\"text-align: right;\">\n",
       "      <th></th>\n",
       "      <th>Wikipedia movie ID</th>\n",
       "      <th>Plot summary</th>\n",
       "    </tr>\n",
       "  </thead>\n",
       "  <tbody>\n",
       "    <tr>\n",
       "      <th>14631</th>\n",
       "      <td>14055212</td>\n",
       "      <td>A woman is thrown out of her home by her jealo...</td>\n",
       "    </tr>\n",
       "    <tr>\n",
       "      <th>29428</th>\n",
       "      <td>14022275</td>\n",
       "      <td>A woman is thrown out of her home by her jealo...</td>\n",
       "    </tr>\n",
       "    <tr>\n",
       "      <th>30987</th>\n",
       "      <td>14051944</td>\n",
       "      <td>A woman is thrown out of her home by her jealo...</td>\n",
       "    </tr>\n",
       "    <tr>\n",
       "      <th>31702</th>\n",
       "      <td>14053389</td>\n",
       "      <td>A woman is thrown out of her home by her jealo...</td>\n",
       "    </tr>\n",
       "    <tr>\n",
       "      <th>35058</th>\n",
       "      <td>19609453</td>\n",
       "      <td>Raja was adopted by a criminal don  at a very ...</td>\n",
       "    </tr>\n",
       "    <tr>\n",
       "      <th>38536</th>\n",
       "      <td>14616220</td>\n",
       "      <td>As the American Civil War begins, Ned Burton l...</td>\n",
       "    </tr>\n",
       "    <tr>\n",
       "      <th>38831</th>\n",
       "      <td>10791937</td>\n",
       "      <td>Taking a step aside from the usual serious dra...</td>\n",
       "    </tr>\n",
       "    <tr>\n",
       "      <th>39019</th>\n",
       "      <td>29481480</td>\n",
       "      <td>An orphan Raghav turns into a ruthless contrac...</td>\n",
       "    </tr>\n",
       "  </tbody>\n",
       "</table>\n",
       "</div>"
      ],
      "text/plain": [
       "       Wikipedia movie ID                                       Plot summary\n",
       "14631            14055212  A woman is thrown out of her home by her jealo...\n",
       "29428            14022275  A woman is thrown out of her home by her jealo...\n",
       "30987            14051944  A woman is thrown out of her home by her jealo...\n",
       "31702            14053389  A woman is thrown out of her home by her jealo...\n",
       "35058            19609453  Raja was adopted by a criminal don  at a very ...\n",
       "38536            14616220  As the American Civil War begins, Ned Burton l...\n",
       "38831            10791937  Taking a step aside from the usual serious dra...\n",
       "39019            29481480  An orphan Raghav turns into a ruthless contrac..."
      ]
     },
     "execution_count": 116,
     "metadata": {},
     "output_type": "execute_result"
    }
   ],
   "source": [
    "df_plots[df_plots.duplicated(subset=['Plot summary'])]"
   ]
  },
  {
   "cell_type": "markdown",
   "metadata": {},
   "source": [
    "There seems to be some duplicated values, aka some movies with the same plot summary. "
   ]
  },
  {
   "cell_type": "markdown",
   "metadata": {},
   "source": [
    "# External datasets"
   ]
  },
  {
   "cell_type": "markdown",
   "metadata": {},
   "source": [
    "As our project require more data than provided, we needed some external data.\n",
    "- IMDB user reviews\n",
    "- Critics reviews and ratings (Metascore)\n",
    "- Awards and nominations:\n",
    "    - [Oscar](https://en.wikipedia.org/wiki/Academy_Awards)\n",
    "    - [Cesar](https://en.wikipedia.org/wiki/C%C3%A9sar_Awards)\n",
    "    - [Golden Globes](https://en.wikipedia.org/wiki/Golden_Globe_Awards)\n",
    "    - [Cannes](https://en.wikipedia.org/wiki/Cannes_Film_Festival)\n",
    "    - [Toronto](https://en.wikipedia.org/wiki/Toronto_International_Film_Festival)\n",
    "    - [Venice](https://en.wikipedia.org/wiki/Venice_Film_Festival)\n",
    "    - [Locarno](https://en.wikipedia.org/wiki/Locarno_Film_Festival)\n",
    "    - Total number of nominations: using IMDB's website data"
   ]
  },
  {
   "cell_type": "markdown",
   "metadata": {},
   "source": [
    "## Scrapping Data\n"
   ]
  },
  {
   "cell_type": "markdown",
   "metadata": {},
   "source": [
    "The website [imdb.com](https://www.imdb.com/) (Internet Movie Data base) contains most of the needed data (Every single needed external data, but not the critics ratings and reviews, that we can find on the metacritic website). We won't describe here the scrapping process, but all the code is available in the [scrap.ipynb](./scrap.ipynb) file."
   ]
  },
  {
   "cell_type": "markdown",
   "metadata": {},
   "source": [
    "We will now load and describe the scrapped data."
   ]
  },
  {
   "cell_type": "code",
   "execution_count": 123,
   "metadata": {},
   "outputs": [],
   "source": [
    "# TODO: remove the todo"
   ]
  },
  {
   "cell_type": "markdown",
   "metadata": {},
   "source": [
    "## Scrapped Data Preprocessing"
   ]
  },
  {
   "cell_type": "markdown",
   "metadata": {},
   "source": [
    "# Data merging\n"
   ]
  },
  {
   "cell_type": "markdown",
   "metadata": {},
   "source": [
    "# Data exploration"
   ]
  },
  {
   "cell_type": "code",
   "execution_count": null,
   "metadata": {},
   "outputs": [],
   "source": []
  }
 ],
 "metadata": {
  "kernelspec": {
   "display_name": "Python 3",
   "language": "python",
   "name": "python3"
  },
  "language_info": {
   "codemirror_mode": {
    "name": "ipython",
    "version": 3
   },
   "file_extension": ".py",
   "mimetype": "text/x-python",
   "name": "python",
   "nbconvert_exporter": "python",
   "pygments_lexer": "ipython3",
   "version": "3.9.13"
  }
 },
 "nbformat": 4,
 "nbformat_minor": 2
}
