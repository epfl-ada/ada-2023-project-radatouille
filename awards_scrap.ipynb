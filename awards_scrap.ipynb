{
 "cells": [
  {
   "cell_type": "code",
   "execution_count": 6,
   "metadata": {},
   "outputs": [],
   "source": [
    "import pandas as pd\n",
    "import requests\n",
    "from bs4 import BeautifulSoup\n",
    "from tqdm.notebook import tqdm\n",
    "import os\n",
    "import json\n",
    "import re"
   ]
  },
  {
   "cell_type": "markdown",
   "metadata": {},
   "source": [
    "# Awards"
   ]
  },
  {
   "cell_type": "code",
   "execution_count": 7,
   "metadata": {},
   "outputs": [],
   "source": [
    "def scrap_awards_movie(metacriticID):\n",
    "    url = 'https://www.imdb.com/title/{}/awards/'.format(metacriticID)    \n",
    "    headers = {\n",
    "        'User-Agent': 'Mozilla/5.0 (Macintosh; Intel Mac OS X 10_10_1) \\\n",
    "        AppleWebKit/537.36 (KHTML, like Gecko) Chrome/39.0.2171.95 Safari/537.36'\n",
    "    }\n",
    "\n",
    "    response = requests.get(url, headers=headers)\n",
    "    soup = BeautifulSoup(response.content, \"html.parser\")\n",
    "\n",
    "    div = soup.find_all('div', attrs={'data-testid':\"awards-signpost\"})\n",
    "    if len(div) == 0:\n",
    "        return 0, 0\n",
    "    awards = div[0].find_all('div', class_=\"ipc-signpost__text\")[0].get_text(strip=True)\n",
    "    # extract the number of awards\n",
    "    # Structure of the text: \"N wins & M nominations.\"\n",
    "    wins = 0\n",
    "    nominations = 0\n",
    "    if len(awards.split('&')) == 2:\n",
    "        wins = int(awards.split('&')[0].split()[0])\n",
    "        nominations = int(awards.split('&')[1].split()[0])\n",
    "    elif \"wins\" in awards:\n",
    "        wins = int(awards.split()[0])\n",
    "    elif \"nominations\" in awards:\n",
    "        nominations = int(awards.split()[0])\n",
    "    return wins, nominations\n",
    "\n",
    "\n"
   ]
  },
  {
   "cell_type": "code",
   "execution_count": 8,
   "metadata": {},
   "outputs": [],
   "source": [
    "def scrap_awards(movies_df, save_step=250):\n",
    "    if not os.path.exists(\"data/scrap/imdb_awards.csv\"):\n",
    "        imdb_awards = pd.DataFrame(columns=[\"freebase_id\", \"nominations\", \"wins\"])\n",
    "    else:\n",
    "        imdb_awards = pd.read_csv(\"data/scrap/imdb_awards.csv\")\n",
    "\n",
    "    already_scraped_movies_ids = imdb_awards[\"freebase_id\"].unique()\n",
    "\n",
    "    # filter movies that have already been scraped\n",
    "    movies_df = movies_df.loc[~movies_df[\"freebase_id\"].isin(already_scraped_movies_ids)].reset_index(drop=True)\n",
    "    \n",
    "    initial_len = len(imdb_awards)\n",
    "\n",
    "    for i, row in tqdm(movies_df.iterrows(), total=len(movies_df)):\n",
    "        imdb_id = row[\"imdb_id\"]\n",
    "        if not imdb_id:\n",
    "            print(row)\n",
    "            continue\n",
    "\n",
    "        wins, nominations = scrap_awards_movie(imdb_id)\n",
    "\n",
    "        award = pd.DataFrame({\"freebase_id\": [row[\"freebase_id\"]], \"nominations\": [nominations], \"wins\": [wins]})\n",
    "\n",
    "        imdb_awards = pd.concat([imdb_awards, award], ignore_index=True)\n",
    "        if i % save_step == 0:\n",
    "            imdb_awards.to_csv(\"data/scrap/imdb_awards.csv\", index=False)\n",
    "            print(\"Saved {} new awards\".format(len(imdb_awards) - initial_len))\n",
    "            initial_len = len(imdb_awards)\n",
    "\n",
    "    imdb_awards.to_csv(\"data/scrap/imdb_awards.csv\", index=False)"
   ]
  },
  {
   "cell_type": "code",
   "execution_count": 9,
   "metadata": {},
   "outputs": [],
   "source": [
    "# Splitting cmu_movies into 4 parts\n",
    "movies = pd.read_csv(\"data/cmu_movies.csv\", sep=\"\\t\")\n",
    "\n",
    "movies1 = movies.iloc[:int(len(movies)/4)]\n",
    "movies2 = movies.iloc[int(len(movies)/4):int(len(movies)/2)]\n",
    "movies3 = movies.iloc[int(len(movies)/2):int(3*len(movies)/4)]\n",
    "movies4 = movies.iloc[int(3*len(movies)/4):]\n",
    "\n",
    "movies1.to_csv(\"data/cmu_movies1.csv\", sep=\"\\t\", index=False)\n",
    "movies2.to_csv(\"data/cmu_movies2.csv\", sep=\"\\t\", index=False)\n",
    "movies3.to_csv(\"data/cmu_movies3.csv\", sep=\"\\t\", index=False)\n",
    "movies4.to_csv(\"data/cmu_movies4.csv\", sep=\"\\t\", index=False)"
   ]
  },
  {
   "cell_type": "code",
   "execution_count": 10,
   "metadata": {},
   "outputs": [
    {
     "data": {
      "application/vnd.jupyter.widget-view+json": {
       "model_id": "b8e63f7cc27f4490ba70aa57d2736bf2",
       "version_major": 2,
       "version_minor": 0
      },
      "text/plain": [
       "  0%|          | 0/2164 [00:00<?, ?it/s]"
      ]
     },
     "metadata": {},
     "output_type": "display_data"
    },
    {
     "name": "stdout",
     "output_type": "stream",
     "text": [
      "Saved 1 new awards\n",
      "Saved 25 new awards\n",
      "Saved 25 new awards\n",
      "Saved 25 new awards\n",
      "Saved 25 new awards\n",
      "Saved 25 new awards\n",
      "Saved 25 new awards\n",
      "Saved 25 new awards\n",
      "Saved 25 new awards\n",
      "Saved 25 new awards\n",
      "Saved 25 new awards\n",
      "Saved 25 new awards\n",
      "Saved 25 new awards\n",
      "Saved 25 new awards\n",
      "Saved 25 new awards\n",
      "Saved 25 new awards\n",
      "Saved 25 new awards\n",
      "Saved 25 new awards\n",
      "Saved 25 new awards\n",
      "Saved 25 new awards\n",
      "Saved 25 new awards\n",
      "Saved 25 new awards\n",
      "Saved 25 new awards\n",
      "Saved 25 new awards\n",
      "Saved 25 new awards\n",
      "Saved 25 new awards\n",
      "Saved 25 new awards\n",
      "Saved 25 new awards\n",
      "Saved 25 new awards\n",
      "Saved 25 new awards\n",
      "Saved 25 new awards\n",
      "Saved 25 new awards\n",
      "Saved 25 new awards\n",
      "Saved 25 new awards\n",
      "Saved 25 new awards\n",
      "Saved 25 new awards\n",
      "Saved 25 new awards\n",
      "Saved 25 new awards\n",
      "Saved 25 new awards\n",
      "Saved 25 new awards\n",
      "Saved 25 new awards\n",
      "Saved 25 new awards\n",
      "Saved 25 new awards\n",
      "Saved 25 new awards\n",
      "Saved 25 new awards\n",
      "Saved 25 new awards\n",
      "Saved 25 new awards\n",
      "Saved 25 new awards\n",
      "Saved 25 new awards\n",
      "Saved 25 new awards\n",
      "Saved 25 new awards\n",
      "Saved 25 new awards\n",
      "Saved 25 new awards\n",
      "Saved 25 new awards\n",
      "Saved 25 new awards\n",
      "Saved 25 new awards\n",
      "Saved 25 new awards\n",
      "Saved 25 new awards\n",
      "Saved 25 new awards\n",
      "Saved 25 new awards\n",
      "Saved 25 new awards\n",
      "Saved 25 new awards\n",
      "Saved 25 new awards\n",
      "Saved 25 new awards\n",
      "Saved 25 new awards\n",
      "Saved 25 new awards\n",
      "Saved 25 new awards\n",
      "Saved 25 new awards\n",
      "Saved 25 new awards\n",
      "Saved 25 new awards\n",
      "Saved 25 new awards\n",
      "Saved 25 new awards\n",
      "Saved 25 new awards\n",
      "Saved 25 new awards\n",
      "Saved 25 new awards\n",
      "Saved 25 new awards\n",
      "Saved 25 new awards\n",
      "Saved 25 new awards\n",
      "Saved 25 new awards\n",
      "Saved 25 new awards\n",
      "Saved 25 new awards\n",
      "Saved 25 new awards\n",
      "Saved 25 new awards\n",
      "Saved 25 new awards\n",
      "Saved 25 new awards\n",
      "Saved 25 new awards\n",
      "Saved 25 new awards\n"
     ]
    }
   ],
   "source": [
    "movies = pd.read_csv(\"data/cmu_movies4.csv\", sep=\"\\t\")\n",
    "movies = movies.loc[(movies['freebase_id'].notnull()) & (movies['imdb_id'].notnull()) & (movies['metacritic_id'].notnull())] \n",
    "scrap_awards(movies, save_step=25)"
   ]
  },
  {
   "cell_type": "code",
   "execution_count": 11,
   "metadata": {},
   "outputs": [],
   "source": [
    "# Concatenating the 4 parts\n",
    "db_paths = [\"data/scrap/imdb_awards1.csv\", \"data/scrap/imdb_awards2.csv\", \"data/scrap/imdb_awards3.csv\", \"data/scrap/imdb_awards4.csv\"]\n",
    "df = pd.concat([pd.read_csv(path) for path in db_paths], ignore_index=True)\n",
    "df.to_csv(\"data/scrap/imdb_awards.csv\", index=False)"
   ]
  }
 ],
 "metadata": {
  "kernelspec": {
   "display_name": "base",
   "language": "python",
   "name": "python3"
  },
  "language_info": {
   "codemirror_mode": {
    "name": "ipython",
    "version": 3
   },
   "file_extension": ".py",
   "mimetype": "text/x-python",
   "name": "python",
   "nbconvert_exporter": "python",
   "pygments_lexer": "ipython3",
   "version": "3.9.13"
  },
  "orig_nbformat": 4
 },
 "nbformat": 4,
 "nbformat_minor": 2
}
